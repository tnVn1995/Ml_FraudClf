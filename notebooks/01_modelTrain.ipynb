{
 "cells": [
  {
   "cell_type": "code",
   "execution_count": 7,
   "metadata": {},
   "outputs": [],
   "source": [
    "from config import CONFIG\n",
    "import pandas as pd\n",
    "import numpy as np\n",
    "from pathlib import Path\n",
    "from logzero import setup_logger\n",
    "\n",
    "# trainning\n",
    "from sklearn.model_selection import StratifiedKFold, cross_val_score\n",
    "from sklearn.metrics import recall_score, make_scorer\n",
    "from sklearn.linear_model import LogisticRegression\n",
    "from sklearn.ensemble import RandomForestClassifier\n"
   ]
  },
  {
   "cell_type": "code",
   "execution_count": 10,
   "metadata": {},
   "outputs": [],
   "source": [
    "logger = setup_logger(name='01_train',logfile=CONFIG.reports / 'logs'/ '01_train.log' )"
   ]
  },
  {
   "cell_type": "code",
   "execution_count": 2,
   "metadata": {},
   "outputs": [],
   "source": [
    "k_fold = StratifiedKFold(n_splits=5, shuffle=True, random_state=CONFIG.random_state)\n",
    "\n"
   ]
  },
  {
   "cell_type": "code",
   "execution_count": 3,
   "metadata": {},
   "outputs": [
    {
     "data": {
      "text/html": "<div>\n<style scoped>\n    .dataframe tbody tr th:only-of-type {\n        vertical-align: middle;\n    }\n\n    .dataframe tbody tr th {\n        vertical-align: top;\n    }\n\n    .dataframe thead th {\n        text-align: right;\n    }\n</style>\n<table border=\"1\" class=\"dataframe\">\n  <thead>\n    <tr style=\"text-align: right;\">\n      <th></th>\n      <th>Time</th>\n      <th>V1</th>\n      <th>V2</th>\n      <th>V3</th>\n      <th>V4</th>\n      <th>V5</th>\n      <th>V6</th>\n      <th>V7</th>\n      <th>V8</th>\n      <th>V9</th>\n      <th>...</th>\n      <th>V21</th>\n      <th>V22</th>\n      <th>V23</th>\n      <th>V24</th>\n      <th>V25</th>\n      <th>V26</th>\n      <th>V27</th>\n      <th>V28</th>\n      <th>Amount</th>\n      <th>Class</th>\n    </tr>\n  </thead>\n  <tbody>\n    <tr>\n      <th>0</th>\n      <td>154640.0</td>\n      <td>-0.006179</td>\n      <td>0.428347</td>\n      <td>0.107722</td>\n      <td>-0.534300</td>\n      <td>0.428184</td>\n      <td>-0.490463</td>\n      <td>0.682737</td>\n      <td>-0.001400</td>\n      <td>-0.167845</td>\n      <td>...</td>\n      <td>-0.315014</td>\n      <td>-0.788776</td>\n      <td>0.068315</td>\n      <td>-0.595862</td>\n      <td>-0.949021</td>\n      <td>0.295830</td>\n      <td>0.584499</td>\n      <td>0.253750</td>\n      <td>-0.324723</td>\n      <td>0</td>\n    </tr>\n    <tr>\n      <th>1</th>\n      <td>139525.0</td>\n      <td>0.906804</td>\n      <td>-0.111816</td>\n      <td>-1.453647</td>\n      <td>0.841653</td>\n      <td>0.445183</td>\n      <td>-0.763003</td>\n      <td>0.743077</td>\n      <td>-0.324415</td>\n      <td>-0.289703</td>\n      <td>...</td>\n      <td>0.382820</td>\n      <td>0.730425</td>\n      <td>-0.371941</td>\n      <td>-0.564845</td>\n      <td>0.944516</td>\n      <td>-0.886890</td>\n      <td>-0.186377</td>\n      <td>-0.171943</td>\n      <td>0.246484</td>\n      <td>0</td>\n    </tr>\n    <tr>\n      <th>2</th>\n      <td>69778.0</td>\n      <td>-0.553119</td>\n      <td>-2.689100</td>\n      <td>-0.923019</td>\n      <td>0.331786</td>\n      <td>-1.504413</td>\n      <td>-0.575062</td>\n      <td>1.294521</td>\n      <td>-0.593775</td>\n      <td>-1.173047</td>\n      <td>...</td>\n      <td>0.471684</td>\n      <td>-1.974414</td>\n      <td>-1.756821</td>\n      <td>0.835349</td>\n      <td>-0.268925</td>\n      <td>1.804527</td>\n      <td>-0.785323</td>\n      <td>0.690229</td>\n      <td>4.854238</td>\n      <td>0</td>\n    </tr>\n    <tr>\n      <th>3</th>\n      <td>48473.0</td>\n      <td>-0.264895</td>\n      <td>0.620774</td>\n      <td>-0.405357</td>\n      <td>-0.551577</td>\n      <td>1.792919</td>\n      <td>2.503290</td>\n      <td>0.037274</td>\n      <td>0.665005</td>\n      <td>-0.293500</td>\n      <td>...</td>\n      <td>-0.262890</td>\n      <td>-0.976089</td>\n      <td>0.233278</td>\n      <td>1.559025</td>\n      <td>-1.511704</td>\n      <td>0.082939</td>\n      <td>0.026766</td>\n      <td>0.770440</td>\n      <td>-0.335278</td>\n      <td>0</td>\n    </tr>\n    <tr>\n      <th>4</th>\n      <td>129350.0</td>\n      <td>-0.326964</td>\n      <td>0.128487</td>\n      <td>0.186869</td>\n      <td>-1.262066</td>\n      <td>1.895409</td>\n      <td>3.021060</td>\n      <td>-0.160778</td>\n      <td>0.784600</td>\n      <td>0.431836</td>\n      <td>...</td>\n      <td>0.228638</td>\n      <td>1.046186</td>\n      <td>-0.514704</td>\n      <td>1.268020</td>\n      <td>-0.161567</td>\n      <td>1.271054</td>\n      <td>0.183406</td>\n      <td>-0.101017</td>\n      <td>-0.335278</td>\n      <td>0</td>\n    </tr>\n  </tbody>\n</table>\n<p>5 rows × 31 columns</p>\n</div>",
      "text/plain": "       Time        V1        V2        V3        V4        V5        V6  \\\n0  154640.0 -0.006179  0.428347  0.107722 -0.534300  0.428184 -0.490463   \n1  139525.0  0.906804 -0.111816 -1.453647  0.841653  0.445183 -0.763003   \n2   69778.0 -0.553119 -2.689100 -0.923019  0.331786 -1.504413 -0.575062   \n3   48473.0 -0.264895  0.620774 -0.405357 -0.551577  1.792919  2.503290   \n4  129350.0 -0.326964  0.128487  0.186869 -1.262066  1.895409  3.021060   \n\n         V7        V8        V9  ...       V21       V22       V23       V24  \\\n0  0.682737 -0.001400 -0.167845  ... -0.315014 -0.788776  0.068315 -0.595862   \n1  0.743077 -0.324415 -0.289703  ...  0.382820  0.730425 -0.371941 -0.564845   \n2  1.294521 -0.593775 -1.173047  ...  0.471684 -1.974414 -1.756821  0.835349   \n3  0.037274  0.665005 -0.293500  ... -0.262890 -0.976089  0.233278  1.559025   \n4 -0.160778  0.784600  0.431836  ...  0.228638  1.046186 -0.514704  1.268020   \n\n        V25       V26       V27       V28    Amount  Class  \n0 -0.949021  0.295830  0.584499  0.253750 -0.324723      0  \n1  0.944516 -0.886890 -0.186377 -0.171943  0.246484      0  \n2 -0.268925  1.804527 -0.785323  0.690229  4.854238      0  \n3 -1.511704  0.082939  0.026766  0.770440 -0.335278      0  \n4 -0.161567  1.271054  0.183406 -0.101017 -0.335278      0  \n\n[5 rows x 31 columns]"
     },
     "execution_count": 3,
     "metadata": {},
     "output_type": "execute_result"
    }
   ],
   "source": [
    "# load data\n",
    "\n",
    "dataX = pd.read_csv(CONFIG.data_path / 'interim' / 'train_data.csv')\n",
    "dataX.head()"
   ]
  },
  {
   "cell_type": "markdown",
   "metadata": {},
   "source": [
    "## Model Training"
   ]
  },
  {
   "cell_type": "code",
   "execution_count": 5,
   "metadata": {},
   "outputs": [
    {
     "name": "stdout",
     "output_type": "stream",
     "text": [
      "(199364, 30) (199364,)\n"
     ]
    }
   ],
   "source": [
    "# Split Features and target data\n",
    "X, y = dataX.iloc[:, :-1], dataX.iloc[:, -1]\n",
    "print(X.shape, y.shape)"
   ]
  },
  {
   "cell_type": "code",
   "execution_count": 13,
   "metadata": {},
   "outputs": [
    {
     "name": "stderr",
     "output_type": "stream",
     "text": [
      "[I 201108 18:27:29 <ipython-input-13-eaa576db51ad>:10] Train LogisticRegression:\n",
      "[I 201108 18:27:29 <ipython-input-13-eaa576db51ad>:11] CV recall:  0.921 +/-  0.020\n",
      "[I 201108 18:27:29 <ipython-input-13-eaa576db51ad>:12] Done!\n"
     ]
    }
   ],
   "source": [
    "# penalty = 'l2'\n",
    "# C = 1.0\n",
    "# class_weight = 'balanced'\n",
    "# random_state = 2018\n",
    "# solver = 'liblinear'\n",
    "logReg = LogisticRegression(n_jobs=-1, class_weight='balanced')\n",
    "# take recall as metric as we want to get all of the fraud cases possible\n",
    "scorer = make_scorer(recall_score)\n",
    "scores = cross_val_score(logReg, X, y, scoring=scorer, cv=k_fold, n_jobs=-1)\n",
    "logger.info('Train LogisticRegression:')\n",
    "logger.info(f'CV recall: {np.mean(scores): .3f} +/- {np.std(scores): .3f}')\n",
    "logger.info('Done!')"
   ]
  },
  {
   "cell_type": "code",
   "execution_count": 14,
   "metadata": {},
   "outputs": [
    {
     "name": "stderr",
     "output_type": "stream",
     "text": [
      "[I 201108 18:29:04 <ipython-input-14-73d9ce1b9e20>:17] Train RandomForest:\n",
      "[I 201108 18:29:04 <ipython-input-14-73d9ce1b9e20>:18] CV recall:  0.759 +/-  0.017\n",
      "[I 201108 18:29:04 <ipython-input-14-73d9ce1b9e20>:19] Done!\n"
     ]
    }
   ],
   "source": [
    "# n_estimators = 10\n",
    "# max_features = 'auto'\n",
    "# max_depth = None\n",
    "# min_samples_split = 2\n",
    "# min_samples_leaf = 1\n",
    "# min_weight_fraction_leaf = 0.0\n",
    "# max_leaf_nodes = None\n",
    "# bootstrap = True\n",
    "# oob_score = False\n",
    "# n_jobs = -1\n",
    "# random_state = 2018\n",
    "# class_weight = 'balanced'\n",
    "\n",
    "RFC = RandomForestClassifier(n_jobs=-1, class_weight='balanced')\n",
    "\n",
    "scores = cross_val_score(RFC, X, y, scoring=scorer, cv=k_fold, n_jobs=-1)\n",
    "logger.info('Train RandomForest:')\n",
    "logger.info(f'CV recall: {np.mean(scores): .3f} +/- {np.std(scores): .3f}')\n",
    "logger.info('Done!')"
   ]
  },
  {
   "cell_type": "code",
   "execution_count": 15,
   "metadata": {},
   "outputs": [
    {
     "name": "stderr",
     "output_type": "stream",
     "text": [
      "[I 201108 18:29:29 <ipython-input-15-9a2a74c73630>:6] Train LGBM:\n",
      "[I 201108 18:29:29 <ipython-input-15-9a2a74c73630>:7] CV recall:  0.860 +/-  0.033\n",
      "[I 201108 18:29:29 <ipython-input-15-9a2a74c73630>:8] Done!\n"
     ]
    }
   ],
   "source": [
    "from lightgbm import LGBMClassifier\n",
    "\n",
    "lgbm = LGBMClassifier(n_jobs=-1, scale_pos_weight=578)\n",
    "\n",
    "scores = cross_val_score(lgbm, X, y, cv=k_fold, scoring=scorer, n_jobs=-1)\n",
    "logger.info('Train LGBM:')\n",
    "logger.info(f'CV recall: {np.mean(scores): .3f} +/- {np.std(scores): .3f}')\n",
    "logger.info('Done!')"
   ]
  },
  {
   "cell_type": "code",
   "execution_count": 16,
   "metadata": {},
   "outputs": [
    {
     "name": "stderr",
     "output_type": "stream",
     "text": [
      "[I 201108 18:31:42 <ipython-input-16-ef9700ec8b02>:5] Train XGBM:\n",
      "[I 201108 18:31:42 <ipython-input-16-ef9700ec8b02>:6] CV recall:  0.814 +/-  0.022\n",
      "[I 201108 18:31:42 <ipython-input-16-ef9700ec8b02>:7] Done!\n"
     ]
    }
   ],
   "source": [
    "from xgboost import XGBClassifier\n",
    "\n",
    "xgbm = XGBClassifier(n_jobs=-1, scale_pos_weight=578)\n",
    "scores = cross_val_score(xgbm, X, y, cv=k_fold, scoring=scorer, n_jobs=-1)\n",
    "logger.info('Train XGBM:')\n",
    "logger.info(f'CV recall: {np.mean(scores): .3f} +/- {np.std(scores): .3f}')\n",
    "logger.info('Done!')\n"
   ]
  },
  {
   "cell_type": "markdown",
   "metadata": {},
   "source": [
    "### Tuning"
   ]
  },
  {
   "cell_type": "code",
   "execution_count": 44,
   "metadata": {},
   "outputs": [],
   "source": [
    "from sklearn.model_selection import GridSearchCV, RandomizedSearchCV\n",
    "# Logistic Regression Tuning\n",
    "\n",
    "param_grid = {\n",
    "    'penalty': ['l1', 'l2'],\n",
    "    'C': np.logspace(-4, 4, 20),\n",
    "    'class_weight': ['balanced']\n",
    "}\n",
    "\n",
    "LRgs = GridSearchCV(logReg, param_grid=param_grid, cv=k_fold, n_jobs=-1, scoring=scorer, refit=True)\n",
    "best_lr = gs.fit(X, y)\n",
    "# rs = RandomizedSearchCV(logReg, param_distributions=param_grid, cv=k_fold, n_jobs=-1, scoring=scorer)\n",
    "# rs.fit(X, y)"
   ]
  },
  {
   "cell_type": "code",
   "execution_count": 34,
   "metadata": {},
   "outputs": [
    {
     "data": {
      "text/plain": "{'penalty': 'l2', 'class_weight': 'balanced', 'C': 3792.690190732246}"
     },
     "execution_count": 34,
     "metadata": {},
     "output_type": "execute_result"
    }
   ],
   "source": [
    "# LightGbm Tuning\n",
    "rs.best_params_"
   ]
  },
  {
   "cell_type": "code",
   "execution_count": 37,
   "metadata": {},
   "outputs": [
    {
     "data": {
      "text/plain": "{'C': 1.623776739188721, 'class_weight': 'balanced', 'penalty': 'l2'}"
     },
     "execution_count": 37,
     "metadata": {},
     "output_type": "execute_result"
    }
   ],
   "source": [
    "gs.best_params_"
   ]
  },
  {
   "cell_type": "code",
   "execution_count": 38,
   "metadata": {},
   "outputs": [
    {
     "data": {
      "text/plain": "0.9243393009377664"
     },
     "execution_count": 38,
     "metadata": {},
     "output_type": "execute_result"
    }
   ],
   "source": [
    "gs.best_score_"
   ]
  },
  {
   "cell_type": "code",
   "execution_count": 35,
   "metadata": {},
   "outputs": [
    {
     "data": {
      "text/plain": "0.9243393009377664"
     },
     "execution_count": 35,
     "metadata": {},
     "output_type": "execute_result"
    }
   ],
   "source": [
    "rs.best_score_"
   ]
  },
  {
   "cell_type": "code",
   "execution_count": 41,
   "metadata": {},
   "outputs": [
    {
     "data": {
      "text/plain": "RandomizedSearchCV(cv=StratifiedKFold(n_splits=5, random_state=42, shuffle=True),\n                   estimator=LGBMClassifier(scale_pos_weight=578), n_iter=100,\n                   n_jobs=-1,\n                   param_distributions={'colsample_bytree': <scipy.stats._distn_infrastructure.rv_frozen object at 0x7f8a12466880>,\n                                        'min_child_samples': <scipy.stats._distn_infrastructure.rv_frozen object at 0x7f8a11936e20>,\n                                        'min_ch...\n                                                             0.1, 1, 10.0,\n                                                             100.0, 1000.0,\n                                                             10000.0],\n                                        'num_leaves': <scipy.stats._distn_infrastructure.rv_frozen object at 0x7f8a1193d100>,\n                                        'reg_alpha': [0, 0.1, 1, 2, 5, 7, 10,\n                                                      50, 100],\n                                        'reg_lambda': [0, 0.1, 1, 5, 10, 20, 50,\n                                                       100],\n                                        'scale_pos_weight': [100, 200, 300, 400,\n                                                             500, 600],\n                                        'subsample': <scipy.stats._distn_infrastructure.rv_frozen object at 0x7f8a1193dd30>},\n                   scoring=make_scorer(recall_score))"
     },
     "execution_count": 41,
     "metadata": {},
     "output_type": "execute_result"
    }
   ],
   "source": [
    "from scipy.stats import randint as sp_randint\n",
    "from scipy.stats import uniform as sp_uniform\n",
    "param_test ={'num_leaves': sp_randint(6, 50), \n",
    "             'min_child_samples': sp_randint(100, 500), \n",
    "             'min_child_weight': [1e-5, 1e-3, 1e-2, 1e-1, 1, 1e1, 1e2, 1e3, 1e4],\n",
    "             'subsample': sp_uniform(loc=0.2, scale=0.8), \n",
    "             'colsample_bytree': sp_uniform(loc=0.4, scale=0.6),\n",
    "             'reg_alpha': [0, 1e-1, 1, 2, 5, 7, 10, 50, 100],\n",
    "             'reg_lambda': [0, 1e-1, 1, 5, 10, 20, 50, 100],\n",
    "             'scale_pos_weight': [100, 200, 300, 400, 500, 600]}\n",
    "\n",
    "\n",
    "fit_params={\"early_stopping_rounds\":30, \n",
    "            \"eval_metric\" : 'auc', \n",
    "            \"eval_set\" : [(X_test,y_test)],\n",
    "            'eval_names': ['valid'],\n",
    "            #'callbacks': [lgb.reset_parameter(learning_rate=learning_rate_010_decay_power_099)],\n",
    "            'verbose': 100,\n",
    "            'categorical_feature': 'auto'}\n",
    "\n",
    "\n",
    "lgbm_gs = RandomizedSearchCV(\n",
    "    lgbm, param_distributions=param_test, \n",
    "    n_iter=100, scoring=scorer, cv=k_fold, refit=True, n_jobs=-1,\n",
    "\n",
    ")\n",
    "lgbm_gs.fit(X, y)"
   ]
  },
  {
   "cell_type": "code",
   "execution_count": 42,
   "metadata": {},
   "outputs": [
    {
     "data": {
      "text/plain": "0.8777919863597614"
     },
     "execution_count": 42,
     "metadata": {},
     "output_type": "execute_result"
    }
   ],
   "source": [
    "lgbm_gs.best_score_"
   ]
  },
  {
   "cell_type": "code",
   "execution_count": 46,
   "metadata": {},
   "outputs": [
    {
     "data": {
      "text/plain": "((85443, 30), (85443,))"
     },
     "execution_count": 46,
     "metadata": {},
     "output_type": "execute_result"
    }
   ],
   "source": [
    "testX = pd.read_csv(CONFIG.data_path / 'interim' / 'test_data.csv')\n",
    "testX.shape\n",
    "X_test, y_test = testX.iloc[:, :-1], testX.iloc[:, -1]\n",
    "X_test.shape, y_test.shape"
   ]
  },
  {
   "cell_type": "code",
   "execution_count": 47,
   "metadata": {},
   "outputs": [
    {
     "data": {
      "text/plain": "0.8648648648648649"
     },
     "execution_count": 47,
     "metadata": {},
     "output_type": "execute_result"
    }
   ],
   "source": [
    "gs.score(X_test, y_test)"
   ]
  },
  {
   "cell_type": "code",
   "execution_count": 48,
   "metadata": {},
   "outputs": [
    {
     "data": {
      "text/plain": "0.8175675675675675"
     },
     "execution_count": 48,
     "metadata": {},
     "output_type": "execute_result"
    }
   ],
   "source": [
    "lgbm_gs.score(X_test, y_test)"
   ]
  },
  {
   "source": [
    "### Evaluating"
   ],
   "cell_type": "markdown",
   "metadata": {}
  },
  {
   "cell_type": "code",
   "execution_count": 55,
   "metadata": {},
   "outputs": [
    {
     "name": "stdout",
     "output_type": "stream",
     "text": [
      "[[82869  2426]\n",
      " [   20   128]]\n"
     ]
    }
   ],
   "source": [
    "from sklearn.metrics import confusion_matrix\n",
    "\n",
    "y_pred = gs.predict(X_test)\n",
    "confmat = confusion_matrix(y_true=y_test, y_pred=y_pred)\n",
    "print(confmat)"
   ]
  },
  {
   "cell_type": "code",
   "execution_count": 51,
   "metadata": {},
   "outputs": [
    {
     "name": "stdout",
     "output_type": "stream",
     "text": [
      "[[82800  2495]\n",
      " [   27   121]]\n"
     ]
    }
   ],
   "source": [
    "y_pred = lgbm_gs.predict(X_test)\n",
    "confmat = confusion_matrix(y_true=y_test, y_pred=y_pred)\n",
    "print(confmat)"
   ]
  },
  {
   "cell_type": "code",
   "execution_count": 54,
   "metadata": {},
   "outputs": [
    {
     "name": "stdout",
     "output_type": "stream",
     "text": [
      "Recall: 0.8175675675675675\n",
      "Precision:0.04625382262996942\n"
     ]
    }
   ],
   "source": [
    "from sklearn.metrics import recall_score, precision_score\n",
    "\n",
    "print(f'Recall: {recall_score(y_true=y_test, y_pred=y_pred)}')\n",
    "print(f'Precision:{precision_score(y_true=y_test, y_pred=y_pred)}')"
   ]
  },
  {
   "cell_type": "code",
   "execution_count": 56,
   "metadata": {},
   "outputs": [
    {
     "name": "stdout",
     "output_type": "stream",
     "text": [
      "Recall: 0.8648648648648649\n",
      "Precision:0.050117462803445575\n"
     ]
    }
   ],
   "source": [
    "print(f'Recall: {recall_score(y_true=y_test, y_pred=y_pred)}')\n",
    "print(f'Precision:{precision_score(y_true=y_test, y_pred=y_pred)}')"
   ]
  }
 ],
 "metadata": {
  "kernelspec": {
   "display_name": "Python 3.8.5 64-bit ('kaggleMl': conda)",
   "metadata": {
    "interpreter": {
     "hash": "f9f0c24e98ce029b755188c348f72091bf8105bd83fe7c69bb3ffe05e3e4e268"
    }
   },
   "name": "Python 3.8.5 64-bit ('kaggleMl': conda)"
  },
  "language_info": {
   "codemirror_mode": {
    "name": "ipython",
    "version": 3
   },
   "file_extension": ".py",
   "mimetype": "text/x-python",
   "name": "python",
   "nbconvert_exporter": "python",
   "pygments_lexer": "ipython3",
   "version": "3.8.5"
  },
  "orig_nbformat": 2
 },
 "nbformat": 4,
 "nbformat_minor": 2
}